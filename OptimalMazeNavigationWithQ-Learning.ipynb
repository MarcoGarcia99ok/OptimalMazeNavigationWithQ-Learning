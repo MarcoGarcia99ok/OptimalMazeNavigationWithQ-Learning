{
 "cells": [
  {
   "cell_type": "code",
   "execution_count": 1,
   "id": "71fcf555-b63e-4470-8e90-e727433265d9",
   "metadata": {},
   "outputs": [],
   "source": [
    "#This maze is represented as a 2D matrix, where each element can be:\n",
    "#A free path (0)\n",
    "#An obstacle (1)\n",
    "#The objective (G)\n",
    "#The goal is to develop an agent that can learn how to navigate from a starting point to the objective while avoiding obstacles."
   ]
  },
  {
   "cell_type": "code",
   "execution_count": 5,
   "id": "d51bcc1c-0763-445c-880b-28ee56c4152c",
   "metadata": {},
   "outputs": [],
   "source": [
    "#Libraries needed for the project\n",
    "import numpy as np\n",
    "import matplotlib.pyplot as plt\n",
    "import random"
   ]
  },
  {
   "cell_type": "code",
   "execution_count": 6,
   "id": "f0b6e61d-d91a-4ecb-a504-7249214e688c",
   "metadata": {},
   "outputs": [],
   "source": [
    "#Function to create a maze\n",
    "def maze_creation(size, wall_percentage, start=(0,0), goal=None):\n",
    "    maze = np.zeros((size,size))\n",
    "    walls_number = int((size*size)*wall_percentage / 100)\n",
    "\n",
    "    #Walls location\n",
    "    for wall in range(walls_number):\n",
    "        x,y = random.randint(0,size-1), random.randint(0,size-1)\n",
    "\n",
    "        #Start and Goal cannot be walls\n",
    "        if (x,y) != start and (goal is None or (x,y) != goal):\n",
    "            maze[x,y] = 1\n",
    "\n",
    "    #Goal location\n",
    "    if goal:\n",
    "        maze[goal] = 9 # \"9\" represents the objective\n",
    "    else:\n",
    "        #Randomly locate the goal if not specified\n",
    "        while True:\n",
    "            x,y = random.randint(0, size-1), random.randint(0,size-1)\n",
    "            if maze[x,y] == 0 and (x,y) != start:\n",
    "                maze[x,y] = 9\n",
    "\n",
    "    return maze"
   ]
  },
  {
   "cell_type": "code",
   "execution_count": 65,
   "id": "d588c7bc-62ea-4fd9-bbc2-245103824c5d",
   "metadata": {},
   "outputs": [],
   "source": [
    "#Function for Visualizing the Maze\n",
    "def maze_visualization(maze):\n",
    "    plt.figure(figsize=(5,5))\n",
    "    plt.imshow(maze, cmap = \"cividis\", interpolation=\"nearest\")\n",
    "    plt.colorbar()"
   ]
  },
  {
   "cell_type": "code",
   "execution_count": 67,
   "id": "bdc7a3ce-887e-4651-965e-acf97a7476d8",
   "metadata": {},
   "outputs": [
    {
     "data": {
      "image/png": "[encoded data removed]",
      "text/plain": [
       "<Figure size 500x500 with 2 Axes>"
      ]
     },
     "metadata": {},
     "output_type": "display_data"
    }
   ],
   "source": [
    "#Maze Creation and Visualization Example\n",
    "maze = maze_creation(10,20,start=(0,0),goal=(9,9))\n",
    "maze_visualization(maze)"
   ]
  },
  {
   "cell_type": "code",
   "execution_count": 69,
   "id": "87497c7d-16c1-4ceb-8d54-b2d9ba6ac6b6",
   "metadata": {},
   "outputs": [],
   "source": [
    "#Q-learning parameters\n",
    "alpha = 0.1  #Learning rate: The machine will learn slowly, and existing actions will gain more weight\n",
    "gamma = 0.9  #Discount factor: The machine will focus on long-term learning rewards\n",
    "epsilon = 0.1  #The machine's actions will tend to explore 10% of the time\n",
    "episodes_number = 500  #Number of learning iterations the machine will execute to interact with the environment"
   ]
  },
  {
   "cell_type": "code",
   "execution_count": 71,
   "id": "4f2ff34a-ebd6-490d-993e-d6f8d0992185",
   "metadata": {},
   "outputs": [],
   "source": [
    "#Function to select an action balancing between exploitation and exploration\n",
    "def greedy_epsilon(Q, state, state_size):\n",
    "    if random.uniform(0,1) < epsilon:\n",
    "        return random.randint(0,3) #There are 4 possible actions: Up, Down, Left, Right \n",
    "    else:\n",
    "        return np.argmax(Q[state])"
   ]
  },
  {
   "cell_type": "code",
   "execution_count": 73,
   "id": "dfe7abf2-ed8c-41f3-9245-704f55883ed9",
   "metadata": {},
   "outputs": [],
   "source": [
    "#Function to simulate the action in the maze\n",
    "def execute_action(state,action,maze,size):\n",
    "    row,column = divmod(state,size)\n",
    "    if action == 0 and row > 0: #Up\n",
    "        row -=1\n",
    "    elif action == 1 and row < size-1: #Down\n",
    "        row +=1\n",
    "    elif action == 2 and column > 0: #Left\n",
    "        column -= 1\n",
    "    elif action == 3 and column < size -1: #Right\n",
    "        column += 1\n",
    "\n",
    "    next_state = row*size+column\n",
    "\n",
    "    #Decision making after updating the state\n",
    "    if maze[row,column] == 1:\n",
    "        reward = -100 #Penalty for hitting a wall\n",
    "        next_state = state #The agent stays in the same place if it hits a wall\n",
    "        ending = False\n",
    "    elif maze[row,column] == 9:\n",
    "        reward = 100 #Reward for reaching the objective\n",
    "        ending = True\n",
    "    else:\n",
    "        reward = -1 #Minor penalty for each step to encourage faster solutions\n",
    "        ending = False\n",
    "        \n",
    "    return next_state, reward, ending"
   ]
  },
  {
   "cell_type": "code",
   "execution_count": 75,
   "id": "7939c176-102f-4e99-9c5b-3654f4fea7e9",
   "metadata": {},
   "outputs": [],
   "source": [
    "#Main function to execute the Q-Learning Algorithm\n",
    "def q_learning(maze,size,start,goal):\n",
    "    Q = np.zeros((size*size,4)) #Initialize Q-table for all possible states and actions \n",
    "\n",
    "    #Iteration through 500 episodes\n",
    "    for episode in range(episodes_number):\n",
    "        state = start\n",
    "        ending = False\n",
    "\n",
    "        while not ending:\n",
    "            action = greedy_epsilon(Q,state,size)\n",
    "            next_state, reward, ending = execute_action(state,action,maze,size)\n",
    "            Q[state,action] += alpha * (reward + gamma * max(Q[next_state, :])-Q[state,action]) #Bellman equation\n",
    "            state = next_state\n",
    "    \n",
    "    return Q"
   ]
  },
  {
   "cell_type": "code",
   "execution_count": 77,
   "id": "1686f749-26cd-4866-bb23-fc018c87fc8a",
   "metadata": {},
   "outputs": [],
   "source": [
    "#Function to convert coordinates to lineal indexes\n",
    "def index_position(position, size):\n",
    "    return position[0]*size+position[1]"
   ]
  },
  {
   "cell_type": "code",
   "execution_count": 79,
   "id": "e93e40f0-e3e5-4c99-b794-121929326e74",
   "metadata": {},
   "outputs": [],
   "source": [
    "#Maze and Q-Learning configuration\n",
    "size = 10\n",
    "start_position = (0,0)\n",
    "goal_position = (9,9)\n",
    "\n",
    "maze = maze_creation(size, 20, start = start_position, goal = goal_position)\n",
    "start = index_position(start_position, size)\n",
    "goal = index_position(goal_position, size)\n",
    "Q_values = q_learning(maze,size,start, goal)"
   ]
  },
  {
   "cell_type": "code",
   "execution_count": 189,
   "id": "580b9b8a-1bdf-42e9-9313-2469bc78cfb9",
   "metadata": {},
   "outputs": [],
   "source": [
    "#Function to show the agent's learning\n",
    "def show_agents_learning(maze, Q, start, goal, size):\n",
    "    row, column = divmod(start, size)\n",
    "    route= [(row, column)]\n",
    "    state = start\n",
    "\n",
    "    while state != goal:\n",
    "        action = np.argmax(Q[state])\n",
    "        state,_,_= execute_action(state,action,maze,size)\n",
    "        row,column = divmod(state, size)\n",
    "        route.append((row,column))\n",
    "    \n",
    "    #Show the path learnt on the maze\n",
    "    plt.figure(figsize=(5,5))\n",
    "    plt.imshow(maze, cmap = \"cividis\", interpolation =\"nearest\")\n",
    "    rows,columns = zip(*route)\n",
    "    plt.plot(columns,rows, marker=\"o\", color=\"c\", label=\"Best path\")\n",
    "    plt.title(\"Optimal Maze Navigation\")\n",
    "    plt.legend(loc='upper left', bbox_to_anchor=(0, -0.1))\n",
    "    plt.colorbar();"
   ]
  },
  {
   "cell_type": "code",
   "execution_count": 191,
   "id": "4a7e79ef-8800-41b4-8c05-a4d4dc1b4afb",
   "metadata": {},
   "outputs": [
    {
     "data": {
      "image/png": "[encoded data removed]",
      "text/plain": [
       "<Figure size 500x500 with 2 Axes>"
      ]
     },
     "metadata": {},
     "output_type": "display_data"
    }
   ],
   "source": [
    "#Final results\n",
    "show_agents_learning(maze, Q_values,start,goal,size)"
   ]
  }
 ],
 "metadata": {
  "kernelspec": {
   "display_name": "Python 3 (ipykernel)",
   "language": "python",
   "name": "python3"
  },
  "language_info": {
   "codemirror_mode": {
    "name": "ipython",
    "version": 3
   },
   "file_extension": ".py",
   "mimetype": "text/x-python",
   "name": "python",
   "nbconvert_exporter": "python",
   "pygments_lexer": "ipython3",
   "version": "3.11.7"
  }
 },
 "nbformat": 4,
 "nbformat_minor": 5
}
